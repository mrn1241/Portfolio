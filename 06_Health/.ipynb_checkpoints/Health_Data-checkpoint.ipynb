{
 "cells": [
  {
   "cell_type": "markdown",
   "id": "fbaffda9",
   "metadata": {},
   "source": [
    "# Health Data - GTT Testing after 24 Weeks"
   ]
  },
  {
   "cell_type": "markdown",
   "id": "f207bc5f",
   "metadata": {},
   "source": [
    "#### Import libraries and Data, Drop unique identifier 'MRN', sort by ID, rename column, export csv and reimport cleaned csv"
   ]
  },
  {
   "cell_type": "code",
   "execution_count": 1,
   "id": "6a9e9aab",
   "metadata": {},
   "outputs": [],
   "source": [
    "import os\n",
    "import numpy as np\n",
    "import pandas as pd\n",
    "import sklearn\n",
    "from scipy import stats\n",
    "from sklearn.linear_model import LinearRegression\n",
    "import matplotlib.pyplot as plt\n",
    "\n",
    "data_1 = \"~/Downloads/health_2.csv\"\n",
    "df = pd.read_csv(data_1)\n",
    "\n",
    "df = df.drop(columns = \"MRN\", axis = 1)\n",
    "\n",
    "df = df.rename(columns={\"Auto Before_After\": \"Before_After\"})\n",
    "df = df.sort_values(by ='ID')\n",
    "\n",
    "\n",
    "compression_opts = dict(method='zip',\n",
    "                        archive_name='Health.csv')\n",
    "\n",
    "df.to_csv('Health.zip', index=False,\n",
    "          compression=compression_opts)\n",
    "\n",
    "data_2 = \"~/Desktop/portfolio/Portfolio/06_Health/Health.csv\"\n",
    "df = pd.read_csv(data_2)"
   ]
  },
  {
   "cell_type": "code",
   "execution_count": 2,
   "id": "8090a718",
   "metadata": {},
   "outputs": [
    {
     "data": {
      "text/html": [
       "<div>\n",
       "<style scoped>\n",
       "    .dataframe tbody tr th:only-of-type {\n",
       "        vertical-align: middle;\n",
       "    }\n",
       "\n",
       "    .dataframe tbody tr th {\n",
       "        vertical-align: top;\n",
       "    }\n",
       "\n",
       "    .dataframe thead th {\n",
       "        text-align: right;\n",
       "    }\n",
       "</style>\n",
       "<table border=\"1\" class=\"dataframe\">\n",
       "  <thead>\n",
       "    <tr style=\"text-align: right;\">\n",
       "      <th></th>\n",
       "      <th>ID</th>\n",
       "      <th>LANGUAGE</th>\n",
       "      <th>AGE</th>\n",
       "      <th>GTT_TEST_RESULT</th>\n",
       "      <th>High_WNL</th>\n",
       "      <th>Before_After</th>\n",
       "      <th>LMP_DATE</th>\n",
       "      <th>24w_DATE</th>\n",
       "      <th>GTT_TEST_NAME</th>\n",
       "      <th>GTT_RESULT_DATE</th>\n",
       "    </tr>\n",
       "  </thead>\n",
       "  <tbody>\n",
       "    <tr>\n",
       "      <th>0</th>\n",
       "      <td>1</td>\n",
       "      <td>Spanish</td>\n",
       "      <td>31</td>\n",
       "      <td>157</td>\n",
       "      <td>High</td>\n",
       "      <td>After</td>\n",
       "      <td>6/4/2019</td>\n",
       "      <td>11/19/2019</td>\n",
       "      <td>GLUCOSE, GESTATIONAL SCREEN (50G)</td>\n",
       "      <td>2/18/2020</td>\n",
       "    </tr>\n",
       "    <tr>\n",
       "      <th>1</th>\n",
       "      <td>1</td>\n",
       "      <td>Spanish</td>\n",
       "      <td>31</td>\n",
       "      <td>73</td>\n",
       "      <td>WNL</td>\n",
       "      <td>After</td>\n",
       "      <td>6/4/2019</td>\n",
       "      <td>11/19/2019</td>\n",
       "      <td>GTT, GESTATIONAL, 3 HR,4 SPEC (100G)</td>\n",
       "      <td>2/22/2020</td>\n",
       "    </tr>\n",
       "    <tr>\n",
       "      <th>2</th>\n",
       "      <td>1</td>\n",
       "      <td>Spanish</td>\n",
       "      <td>31</td>\n",
       "      <td>163</td>\n",
       "      <td>WNL</td>\n",
       "      <td>After</td>\n",
       "      <td>6/4/2019</td>\n",
       "      <td>11/19/2019</td>\n",
       "      <td>GTT, GESTATIONAL, 3 HR,4 SPEC (100G)</td>\n",
       "      <td>2/22/2020</td>\n",
       "    </tr>\n",
       "    <tr>\n",
       "      <th>3</th>\n",
       "      <td>1</td>\n",
       "      <td>Spanish</td>\n",
       "      <td>31</td>\n",
       "      <td>117</td>\n",
       "      <td>WNL</td>\n",
       "      <td>After</td>\n",
       "      <td>6/4/2019</td>\n",
       "      <td>11/19/2019</td>\n",
       "      <td>GTT, GESTATIONAL, 3 HR,4 SPEC (100G)</td>\n",
       "      <td>2/22/2020</td>\n",
       "    </tr>\n",
       "    <tr>\n",
       "      <th>4</th>\n",
       "      <td>1</td>\n",
       "      <td>Spanish</td>\n",
       "      <td>31</td>\n",
       "      <td>131</td>\n",
       "      <td>WNL</td>\n",
       "      <td>After</td>\n",
       "      <td>6/4/2019</td>\n",
       "      <td>11/19/2019</td>\n",
       "      <td>GTT, GESTATIONAL, 3 HR,4 SPEC (100G)</td>\n",
       "      <td>2/22/2020</td>\n",
       "    </tr>\n",
       "  </tbody>\n",
       "</table>\n",
       "</div>"
      ],
      "text/plain": [
       "   ID LANGUAGE  AGE  GTT_TEST_RESULT High_WNL Before_After  LMP_DATE  \\\n",
       "0   1  Spanish   31              157     High        After  6/4/2019   \n",
       "1   1  Spanish   31               73      WNL        After  6/4/2019   \n",
       "2   1  Spanish   31              163      WNL        After  6/4/2019   \n",
       "3   1  Spanish   31              117      WNL        After  6/4/2019   \n",
       "4   1  Spanish   31              131      WNL        After  6/4/2019   \n",
       "\n",
       "     24w_DATE                         GTT_TEST_NAME GTT_RESULT_DATE  \n",
       "0  11/19/2019     GLUCOSE, GESTATIONAL SCREEN (50G)       2/18/2020  \n",
       "1  11/19/2019  GTT, GESTATIONAL, 3 HR,4 SPEC (100G)       2/22/2020  \n",
       "2  11/19/2019  GTT, GESTATIONAL, 3 HR,4 SPEC (100G)       2/22/2020  \n",
       "3  11/19/2019  GTT, GESTATIONAL, 3 HR,4 SPEC (100G)       2/22/2020  \n",
       "4  11/19/2019  GTT, GESTATIONAL, 3 HR,4 SPEC (100G)       2/22/2020  "
      ]
     },
     "execution_count": 2,
     "metadata": {},
     "output_type": "execute_result"
    }
   ],
   "source": [
    "df.head()"
   ]
  },
  {
   "cell_type": "markdown",
   "id": "9e694b71",
   "metadata": {},
   "source": [
    "#### Check for any existing NULL values"
   ]
  },
  {
   "cell_type": "code",
   "execution_count": 3,
   "id": "326e9ac9",
   "metadata": {},
   "outputs": [
    {
     "data": {
      "text/plain": [
       "ID                 0\n",
       "LANGUAGE           0\n",
       "AGE                0\n",
       "GTT_TEST_RESULT    0\n",
       "High_WNL           0\n",
       "Before_After       0\n",
       "LMP_DATE           0\n",
       "24w_DATE           0\n",
       "GTT_TEST_NAME      0\n",
       "GTT_RESULT_DATE    0\n",
       "dtype: int64"
      ]
     },
     "execution_count": 3,
     "metadata": {},
     "output_type": "execute_result"
    }
   ],
   "source": [
    "df.isnull().sum()"
   ]
  },
  {
   "cell_type": "markdown",
   "id": "ac13ce5b",
   "metadata": {},
   "source": [
    "#### Total Number of observations in Data Set"
   ]
  },
  {
   "cell_type": "code",
   "execution_count": 4,
   "id": "976866b5",
   "metadata": {},
   "outputs": [
    {
     "data": {
      "text/plain": [
       "9708"
      ]
     },
     "execution_count": 4,
     "metadata": {},
     "output_type": "execute_result"
    }
   ],
   "source": [
    "df['ID'].count()"
   ]
  },
  {
   "cell_type": "code",
   "execution_count": 5,
   "id": "3896c3fc",
   "metadata": {},
   "outputs": [
    {
     "data": {
      "text/html": [
       "<div>\n",
       "<style scoped>\n",
       "    .dataframe tbody tr th:only-of-type {\n",
       "        vertical-align: middle;\n",
       "    }\n",
       "\n",
       "    .dataframe tbody tr th {\n",
       "        vertical-align: top;\n",
       "    }\n",
       "\n",
       "    .dataframe thead th {\n",
       "        text-align: right;\n",
       "    }\n",
       "</style>\n",
       "<table border=\"1\" class=\"dataframe\">\n",
       "  <thead>\n",
       "    <tr style=\"text-align: right;\">\n",
       "      <th></th>\n",
       "      <th>ID</th>\n",
       "      <th>LANGUAGE</th>\n",
       "      <th>AGE</th>\n",
       "      <th>GTT_TEST_RESULT</th>\n",
       "      <th>High_WNL</th>\n",
       "      <th>Before_After</th>\n",
       "      <th>LMP_DATE</th>\n",
       "      <th>24w_DATE</th>\n",
       "      <th>GTT_TEST_NAME</th>\n",
       "      <th>GTT_RESULT_DATE</th>\n",
       "    </tr>\n",
       "  </thead>\n",
       "  <tbody>\n",
       "    <tr>\n",
       "      <th>0</th>\n",
       "      <td>1</td>\n",
       "      <td>Spanish</td>\n",
       "      <td>31</td>\n",
       "      <td>157</td>\n",
       "      <td>High</td>\n",
       "      <td>After</td>\n",
       "      <td>6/4/2019</td>\n",
       "      <td>11/19/2019</td>\n",
       "      <td>GLUCOSE, GESTATIONAL SCREEN (50G)</td>\n",
       "      <td>2/18/2020</td>\n",
       "    </tr>\n",
       "    <tr>\n",
       "      <th>1</th>\n",
       "      <td>1</td>\n",
       "      <td>Spanish</td>\n",
       "      <td>31</td>\n",
       "      <td>73</td>\n",
       "      <td>WNL</td>\n",
       "      <td>After</td>\n",
       "      <td>6/4/2019</td>\n",
       "      <td>11/19/2019</td>\n",
       "      <td>GTT, GESTATIONAL, 3 HR,4 SPEC (100G)</td>\n",
       "      <td>2/22/2020</td>\n",
       "    </tr>\n",
       "    <tr>\n",
       "      <th>2</th>\n",
       "      <td>1</td>\n",
       "      <td>Spanish</td>\n",
       "      <td>31</td>\n",
       "      <td>163</td>\n",
       "      <td>WNL</td>\n",
       "      <td>After</td>\n",
       "      <td>6/4/2019</td>\n",
       "      <td>11/19/2019</td>\n",
       "      <td>GTT, GESTATIONAL, 3 HR,4 SPEC (100G)</td>\n",
       "      <td>2/22/2020</td>\n",
       "    </tr>\n",
       "    <tr>\n",
       "      <th>3</th>\n",
       "      <td>1</td>\n",
       "      <td>Spanish</td>\n",
       "      <td>31</td>\n",
       "      <td>117</td>\n",
       "      <td>WNL</td>\n",
       "      <td>After</td>\n",
       "      <td>6/4/2019</td>\n",
       "      <td>11/19/2019</td>\n",
       "      <td>GTT, GESTATIONAL, 3 HR,4 SPEC (100G)</td>\n",
       "      <td>2/22/2020</td>\n",
       "    </tr>\n",
       "    <tr>\n",
       "      <th>4</th>\n",
       "      <td>1</td>\n",
       "      <td>Spanish</td>\n",
       "      <td>31</td>\n",
       "      <td>131</td>\n",
       "      <td>WNL</td>\n",
       "      <td>After</td>\n",
       "      <td>6/4/2019</td>\n",
       "      <td>11/19/2019</td>\n",
       "      <td>GTT, GESTATIONAL, 3 HR,4 SPEC (100G)</td>\n",
       "      <td>2/22/2020</td>\n",
       "    </tr>\n",
       "  </tbody>\n",
       "</table>\n",
       "</div>"
      ],
      "text/plain": [
       "   ID LANGUAGE  AGE  GTT_TEST_RESULT High_WNL Before_After  LMP_DATE  \\\n",
       "0   1  Spanish   31              157     High        After  6/4/2019   \n",
       "1   1  Spanish   31               73      WNL        After  6/4/2019   \n",
       "2   1  Spanish   31              163      WNL        After  6/4/2019   \n",
       "3   1  Spanish   31              117      WNL        After  6/4/2019   \n",
       "4   1  Spanish   31              131      WNL        After  6/4/2019   \n",
       "\n",
       "     24w_DATE                         GTT_TEST_NAME GTT_RESULT_DATE  \n",
       "0  11/19/2019     GLUCOSE, GESTATIONAL SCREEN (50G)       2/18/2020  \n",
       "1  11/19/2019  GTT, GESTATIONAL, 3 HR,4 SPEC (100G)       2/22/2020  \n",
       "2  11/19/2019  GTT, GESTATIONAL, 3 HR,4 SPEC (100G)       2/22/2020  \n",
       "3  11/19/2019  GTT, GESTATIONAL, 3 HR,4 SPEC (100G)       2/22/2020  \n",
       "4  11/19/2019  GTT, GESTATIONAL, 3 HR,4 SPEC (100G)       2/22/2020  "
      ]
     },
     "execution_count": 5,
     "metadata": {},
     "output_type": "execute_result"
    }
   ],
   "source": [
    "df.head(5)"
   ]
  },
  {
   "cell_type": "code",
   "execution_count": null,
   "id": "d08a61dd",
   "metadata": {},
   "outputs": [],
   "source": []
  },
  {
   "cell_type": "markdown",
   "id": "0f97603f",
   "metadata": {},
   "source": [
    "### Create array with patient ID and count the number of unique ID's\n"
   ]
  },
  {
   "cell_type": "code",
   "execution_count": 6,
   "id": "edfb816f",
   "metadata": {},
   "outputs": [
    {
     "name": "stdout",
     "output_type": "stream",
     "text": [
      "There are 1505 unique patients in the dataset\n"
     ]
    }
   ],
   "source": [
    "\n",
    "count = 0\n",
    "arr = []\n",
    "arr_temp = []\n",
    "\n",
    "for i in range(0,len(df['ID'])):\n",
    "    if df['ID'][i] not in arr_temp:\n",
    "        arr_temp.append(df['ID'][i])\n",
    "        arr.append(f\"Patient_{df['ID'][i]}\")\n",
    "        count += 1\n",
    "               \n",
    "print(f\"There are {count} unique patients in the dataset\")\n",
    "# print(len(arr_temp))\n",
    "# print(len(arr))\n"
   ]
  },
  {
   "cell_type": "markdown",
   "id": "38c245d1",
   "metadata": {},
   "source": [
    "#### Create two copies of dataset, one filtering for data \"Before 24 weeks\" and one for data \"After 24 weeks\""
   ]
  },
  {
   "cell_type": "code",
   "execution_count": 7,
   "id": "71b435f7",
   "metadata": {},
   "outputs": [
    {
     "name": "stdout",
     "output_type": "stream",
     "text": [
      "5156\n",
      "4552\n"
     ]
    }
   ],
   "source": [
    "df_before = df[df['Before_After'] == 'Before']\n",
    "print(len(df_before))\n",
    "\n",
    "df_after = df[df['Before_After'] == 'After']\n",
    "print(len(df_after))\n"
   ]
  },
  {
   "cell_type": "markdown",
   "id": "4ec0663a",
   "metadata": {},
   "source": [
    "#### Create Dictionary with Key = Patient ID and Value = age, average test result, etc before/after treatment\n"
   ]
  },
  {
   "cell_type": "code",
   "execution_count": 8,
   "id": "9f21cbb9",
   "metadata": {},
   "outputs": [
    {
     "name": "stdout",
     "output_type": "stream",
     "text": [
      "There are 1504 observations in the 'before' dataset\n",
      "There are 1504 observations in the 'after' dataset\n"
     ]
    }
   ],
   "source": [
    "\n",
    "before_dict = {}\n",
    "\n",
    "for i in range(1,1505):\n",
    "    before_dict[arr[i]] = [round(df_before['GTT_TEST_RESULT'][df_before['ID'] == arr_temp[i]].mean(),2), df_before['AGE'][df_before[\"ID\"] == arr_temp[i]].mean(), df_before['ID'][df_before[\"ID\"] == arr_temp[i]].mean()]\n",
    "    \n",
    "print(f\"There are {len(before_dict)} observations in the 'before' dataset\")\n",
    "\n",
    "\n",
    "df_after = df[df['Before_After'] == 'After']\n",
    "after_dict = {}\n",
    "\n",
    "for i in range(1,1505):\n",
    "    after_dict[arr[i-1]] = [round(df_after['GTT_TEST_RESULT'][df_after['ID'] == arr_temp[i]].mean(),2), df_after['AGE'][df_after[\"ID\"] == arr_temp[i]].mean(), df_after['ID'][df_after[\"ID\"] == arr_temp[i]].mean()]\n",
    "    \n",
    "print(f\"There are {len(after_dict)} observations in the 'after' dataset\")\n",
    "\n",
    "\n"
   ]
  },
  {
   "cell_type": "markdown",
   "id": "a356a86a",
   "metadata": {},
   "source": [
    "#### Remove NaN values from both before/after datasets"
   ]
  },
  {
   "cell_type": "code",
   "execution_count": 9,
   "id": "269b5010",
   "metadata": {},
   "outputs": [
    {
     "name": "stdout",
     "output_type": "stream",
     "text": [
      "There are 1327 observations remaining after removing NaN values in the 'before' dataset\n",
      "There are 1126 observations remaining after removing NaN values in the 'after' dataset\n"
     ]
    }
   ],
   "source": [
    "# remove NaN values\n",
    "before_dict = {k: v for k, v in before_dict.items() if pd.Series(v).notna().all()}\n",
    "\n",
    "after_dict = {k: v for k, v in after_dict.items() if pd.Series(v).notna().all()}\n",
    "\n",
    "\n",
    "# Print len of dictionary after removing NaN\n",
    "print(f\"There are {len(before_dict)} observations remaining after removing NaN values in the 'before' dataset\")\n",
    "print(f\"There are {len(after_dict)} observations remaining after removing NaN values in the 'after' dataset\")\n"
   ]
  },
  {
   "cell_type": "markdown",
   "id": "1bec20ac",
   "metadata": {},
   "source": [
    "### Create new dataframe given cleaned before/after data"
   ]
  },
  {
   "cell_type": "code",
   "execution_count": 10,
   "id": "463d9a25",
   "metadata": {},
   "outputs": [],
   "source": [
    "df_before_avg = pd.DataFrame(before_dict.items(), columns = ['ID', 'avg_gtt_test_result'])\n",
    "# df_before_avg['language'] = df_before_avg['avg_gtt_test_result'].str[2]\n",
    "df_before_avg['id_num'] = df_before_avg['avg_gtt_test_result'].str[2]\n",
    "df_before_avg['age'] = df_before_avg['avg_gtt_test_result'].str[1]\n",
    "df_before_avg['avg_before_test'] = df_before_avg['avg_gtt_test_result'].str[0]\n",
    "df_before_avg[\"age\"] = df_before_avg[\"age\"].astype(int)\n",
    "df_before_avg = df_before_avg.drop(columns = 'avg_gtt_test_result', axis = 1)\n"
   ]
  },
  {
   "cell_type": "code",
   "execution_count": 11,
   "id": "65be0b4e",
   "metadata": {},
   "outputs": [],
   "source": [
    "df_after_avg = pd.DataFrame(after_dict.items(), columns = ['ID', 'avg_gtt_test_result'])\n",
    "# df_after_avg['language'] = df_after_avg['avg_gtt_test_result'].str[2]\n",
    "df_after_avg['id_num'] = df_after_avg['avg_gtt_test_result'].str[2]\n",
    "df_after_avg['age'] = df_after_avg['avg_gtt_test_result'].str[1]\n",
    "df_after_avg['avg_after_test'] = df_after_avg['avg_gtt_test_result'].str[0]\n",
    "df_after_avg[\"age\"] = df_after_avg[\"age\"].astype(int)\n",
    "df_after_avg = df_after_avg.drop(columns = 'avg_gtt_test_result', axis = 1)"
   ]
  },
  {
   "cell_type": "markdown",
   "id": "d2d9ea97",
   "metadata": {},
   "source": [
    "### Join the resulting before/after dataframes"
   ]
  },
  {
   "cell_type": "code",
   "execution_count": 12,
   "id": "d3cad982",
   "metadata": {},
   "outputs": [],
   "source": [
    "df_join = df_before_avg.join(df_after_avg, rsuffix='_right')\n",
    "df_join = df_join.drop(columns = ['ID_right', 'age_right', 'id_num_right'], axis = 1)\n",
    "df_join['id_num'] = df_join['id_num'].astype(int)\n",
    "\n"
   ]
  },
  {
   "cell_type": "markdown",
   "id": "340e46cc",
   "metadata": {},
   "source": [
    "#### check for null values"
   ]
  },
  {
   "cell_type": "code",
   "execution_count": 13,
   "id": "c5db23ce",
   "metadata": {},
   "outputs": [
    {
     "data": {
      "text/plain": [
       "ID                   0\n",
       "id_num               0\n",
       "age                  0\n",
       "avg_before_test      0\n",
       "avg_after_test     201\n",
       "dtype: int64"
      ]
     },
     "execution_count": 13,
     "metadata": {},
     "output_type": "execute_result"
    }
   ],
   "source": [
    "df_join.isnull().sum()"
   ]
  },
  {
   "cell_type": "markdown",
   "id": "eb1b2512",
   "metadata": {},
   "source": [
    "#### Drop NaN values in the after dataframe, caluclate differnce and percentage change in test results, drop unneeded cols"
   ]
  },
  {
   "cell_type": "code",
   "execution_count": 14,
   "id": "1f7d6be6",
   "metadata": {
    "scrolled": false
   },
   "outputs": [
    {
     "data": {
      "text/html": [
       "<div>\n",
       "<style scoped>\n",
       "    .dataframe tbody tr th:only-of-type {\n",
       "        vertical-align: middle;\n",
       "    }\n",
       "\n",
       "    .dataframe tbody tr th {\n",
       "        vertical-align: top;\n",
       "    }\n",
       "\n",
       "    .dataframe thead th {\n",
       "        text-align: right;\n",
       "    }\n",
       "</style>\n",
       "<table border=\"1\" class=\"dataframe\">\n",
       "  <thead>\n",
       "    <tr style=\"text-align: right;\">\n",
       "      <th></th>\n",
       "      <th>id</th>\n",
       "      <th>age</th>\n",
       "      <th>avg_before_test</th>\n",
       "      <th>avg_after_test</th>\n",
       "      <th>diff</th>\n",
       "      <th>percent_change</th>\n",
       "    </tr>\n",
       "  </thead>\n",
       "  <tbody>\n",
       "    <tr>\n",
       "      <th>0</th>\n",
       "      <td>2</td>\n",
       "      <td>39</td>\n",
       "      <td>182.0</td>\n",
       "      <td>161.60</td>\n",
       "      <td>-20.40</td>\n",
       "      <td>-11.21</td>\n",
       "    </tr>\n",
       "    <tr>\n",
       "      <th>1</th>\n",
       "      <td>3</td>\n",
       "      <td>31</td>\n",
       "      <td>115.5</td>\n",
       "      <td>115.50</td>\n",
       "      <td>0.00</td>\n",
       "      <td>0.00</td>\n",
       "    </tr>\n",
       "    <tr>\n",
       "      <th>2</th>\n",
       "      <td>4</td>\n",
       "      <td>42</td>\n",
       "      <td>131.2</td>\n",
       "      <td>136.00</td>\n",
       "      <td>4.80</td>\n",
       "      <td>3.66</td>\n",
       "    </tr>\n",
       "    <tr>\n",
       "      <th>3</th>\n",
       "      <td>5</td>\n",
       "      <td>36</td>\n",
       "      <td>110.4</td>\n",
       "      <td>95.40</td>\n",
       "      <td>-15.00</td>\n",
       "      <td>-13.59</td>\n",
       "    </tr>\n",
       "    <tr>\n",
       "      <th>4</th>\n",
       "      <td>6</td>\n",
       "      <td>36</td>\n",
       "      <td>65.0</td>\n",
       "      <td>144.00</td>\n",
       "      <td>79.00</td>\n",
       "      <td>121.54</td>\n",
       "    </tr>\n",
       "    <tr>\n",
       "      <th>...</th>\n",
       "      <td>...</td>\n",
       "      <td>...</td>\n",
       "      <td>...</td>\n",
       "      <td>...</td>\n",
       "      <td>...</td>\n",
       "      <td>...</td>\n",
       "    </tr>\n",
       "    <tr>\n",
       "      <th>1121</th>\n",
       "      <td>1676</td>\n",
       "      <td>25</td>\n",
       "      <td>86.0</td>\n",
       "      <td>103.33</td>\n",
       "      <td>17.33</td>\n",
       "      <td>20.15</td>\n",
       "    </tr>\n",
       "    <tr>\n",
       "      <th>1122</th>\n",
       "      <td>1678</td>\n",
       "      <td>30</td>\n",
       "      <td>128.8</td>\n",
       "      <td>144.60</td>\n",
       "      <td>15.80</td>\n",
       "      <td>12.27</td>\n",
       "    </tr>\n",
       "    <tr>\n",
       "      <th>1123</th>\n",
       "      <td>1679</td>\n",
       "      <td>24</td>\n",
       "      <td>101.8</td>\n",
       "      <td>140.80</td>\n",
       "      <td>39.00</td>\n",
       "      <td>38.31</td>\n",
       "    </tr>\n",
       "    <tr>\n",
       "      <th>1124</th>\n",
       "      <td>1680</td>\n",
       "      <td>22</td>\n",
       "      <td>112.4</td>\n",
       "      <td>164.57</td>\n",
       "      <td>52.17</td>\n",
       "      <td>46.41</td>\n",
       "    </tr>\n",
       "    <tr>\n",
       "      <th>1125</th>\n",
       "      <td>1681</td>\n",
       "      <td>39</td>\n",
       "      <td>129.0</td>\n",
       "      <td>106.60</td>\n",
       "      <td>-22.40</td>\n",
       "      <td>-17.36</td>\n",
       "    </tr>\n",
       "  </tbody>\n",
       "</table>\n",
       "<p>1126 rows × 6 columns</p>\n",
       "</div>"
      ],
      "text/plain": [
       "        id  age  avg_before_test  avg_after_test   diff  percent_change\n",
       "0        2   39            182.0          161.60 -20.40          -11.21\n",
       "1        3   31            115.5          115.50   0.00            0.00\n",
       "2        4   42            131.2          136.00   4.80            3.66\n",
       "3        5   36            110.4           95.40 -15.00          -13.59\n",
       "4        6   36             65.0          144.00  79.00          121.54\n",
       "...    ...  ...              ...             ...    ...             ...\n",
       "1121  1676   25             86.0          103.33  17.33           20.15\n",
       "1122  1678   30            128.8          144.60  15.80           12.27\n",
       "1123  1679   24            101.8          140.80  39.00           38.31\n",
       "1124  1680   22            112.4          164.57  52.17           46.41\n",
       "1125  1681   39            129.0          106.60 -22.40          -17.36\n",
       "\n",
       "[1126 rows x 6 columns]"
      ]
     },
     "execution_count": 14,
     "metadata": {},
     "output_type": "execute_result"
    }
   ],
   "source": [
    "df_averages = df_join.dropna()\n",
    "df_averages = df_averages.assign(diff = df_averages['avg_after_test'] - df_averages['avg_before_test'])\n",
    "df_averages['percent_change'] = round(100*((df_averages['avg_after_test'] - df_averages['avg_before_test'])/df_averages['avg_before_test']),2)\n",
    "\n",
    "df_averages = df_averages.drop(columns = \"ID\", axis = 1)\n",
    "df_averages = df_averages.reset_index()\n",
    "df_averages = df_averages.rename(columns = {'id_num':'id'})\n",
    "df_averages = df_averages.drop(columns = 'index', axis = 1)\n",
    "df_averages\n"
   ]
  },
  {
   "cell_type": "markdown",
   "id": "705eba80",
   "metadata": {},
   "source": [
    "### Remove patients who do not have both before and after test results"
   ]
  },
  {
   "cell_type": "code",
   "execution_count": 15,
   "id": "efdf8afc",
   "metadata": {},
   "outputs": [],
   "source": [
    "arr_id = list(df_averages.id.values)"
   ]
  },
  {
   "cell_type": "code",
   "execution_count": 16,
   "id": "9138c54d",
   "metadata": {},
   "outputs": [],
   "source": [
    "df_clean = df[df.ID.isin(arr_id)]"
   ]
  },
  {
   "cell_type": "code",
   "execution_count": 17,
   "id": "99b7b8e1",
   "metadata": {},
   "outputs": [
    {
     "data": {
      "text/html": [
       "<div>\n",
       "<style scoped>\n",
       "    .dataframe tbody tr th:only-of-type {\n",
       "        vertical-align: middle;\n",
       "    }\n",
       "\n",
       "    .dataframe tbody tr th {\n",
       "        vertical-align: top;\n",
       "    }\n",
       "\n",
       "    .dataframe thead th {\n",
       "        text-align: right;\n",
       "    }\n",
       "</style>\n",
       "<table border=\"1\" class=\"dataframe\">\n",
       "  <thead>\n",
       "    <tr style=\"text-align: right;\">\n",
       "      <th></th>\n",
       "      <th>ID</th>\n",
       "      <th>LANGUAGE</th>\n",
       "      <th>AGE</th>\n",
       "      <th>GTT_TEST_RESULT</th>\n",
       "      <th>High_WNL</th>\n",
       "      <th>Before_After</th>\n",
       "      <th>LMP_DATE</th>\n",
       "      <th>24w_DATE</th>\n",
       "      <th>GTT_TEST_NAME</th>\n",
       "      <th>GTT_RESULT_DATE</th>\n",
       "    </tr>\n",
       "  </thead>\n",
       "  <tbody>\n",
       "    <tr>\n",
       "      <th>5</th>\n",
       "      <td>2</td>\n",
       "      <td>Spanish</td>\n",
       "      <td>39</td>\n",
       "      <td>91</td>\n",
       "      <td>WNL</td>\n",
       "      <td>After</td>\n",
       "      <td>1/18/2020</td>\n",
       "      <td>7/4/2020</td>\n",
       "      <td>GTT, GESTATIONAL, 3 HR,4 SPEC (100G)</td>\n",
       "      <td>1/23/2021</td>\n",
       "    </tr>\n",
       "    <tr>\n",
       "      <th>6</th>\n",
       "      <td>2</td>\n",
       "      <td>Spanish</td>\n",
       "      <td>39</td>\n",
       "      <td>191</td>\n",
       "      <td>High</td>\n",
       "      <td>After</td>\n",
       "      <td>1/18/2020</td>\n",
       "      <td>7/4/2020</td>\n",
       "      <td>GLUCOSE, GESTATIONAL SCREEN (50G)</td>\n",
       "      <td>1/14/2021</td>\n",
       "    </tr>\n",
       "    <tr>\n",
       "      <th>7</th>\n",
       "      <td>2</td>\n",
       "      <td>Spanish</td>\n",
       "      <td>39</td>\n",
       "      <td>182</td>\n",
       "      <td>High</td>\n",
       "      <td>Before</td>\n",
       "      <td>1/18/2020</td>\n",
       "      <td>7/4/2020</td>\n",
       "      <td>GLUCOSE, GESTATIONAL SCREEN (50G)</td>\n",
       "      <td>3/13/2020</td>\n",
       "    </tr>\n",
       "    <tr>\n",
       "      <th>8</th>\n",
       "      <td>2</td>\n",
       "      <td>Spanish</td>\n",
       "      <td>39</td>\n",
       "      <td>189</td>\n",
       "      <td>High</td>\n",
       "      <td>After</td>\n",
       "      <td>1/18/2020</td>\n",
       "      <td>7/4/2020</td>\n",
       "      <td>GTT, GESTATIONAL, 3 HR,4 SPEC (100G)</td>\n",
       "      <td>1/23/2021</td>\n",
       "    </tr>\n",
       "    <tr>\n",
       "      <th>9</th>\n",
       "      <td>2</td>\n",
       "      <td>Spanish</td>\n",
       "      <td>39</td>\n",
       "      <td>197</td>\n",
       "      <td>High</td>\n",
       "      <td>After</td>\n",
       "      <td>1/18/2020</td>\n",
       "      <td>7/4/2020</td>\n",
       "      <td>GTT, GESTATIONAL, 3 HR,4 SPEC (100G)</td>\n",
       "      <td>1/23/2021</td>\n",
       "    </tr>\n",
       "    <tr>\n",
       "      <th>...</th>\n",
       "      <td>...</td>\n",
       "      <td>...</td>\n",
       "      <td>...</td>\n",
       "      <td>...</td>\n",
       "      <td>...</td>\n",
       "      <td>...</td>\n",
       "      <td>...</td>\n",
       "      <td>...</td>\n",
       "      <td>...</td>\n",
       "      <td>...</td>\n",
       "    </tr>\n",
       "    <tr>\n",
       "      <th>8166</th>\n",
       "      <td>1681</td>\n",
       "      <td>Spanish</td>\n",
       "      <td>39</td>\n",
       "      <td>131</td>\n",
       "      <td>WNL</td>\n",
       "      <td>Before</td>\n",
       "      <td>6/15/2019</td>\n",
       "      <td>11/30/2019</td>\n",
       "      <td>GTT, GESTATIONAL, 3 HR,4 SPEC (100G)</td>\n",
       "      <td>8/28/2019</td>\n",
       "    </tr>\n",
       "    <tr>\n",
       "      <th>8167</th>\n",
       "      <td>1681</td>\n",
       "      <td>Spanish</td>\n",
       "      <td>39</td>\n",
       "      <td>157</td>\n",
       "      <td>WNL</td>\n",
       "      <td>Before</td>\n",
       "      <td>6/15/2019</td>\n",
       "      <td>11/30/2019</td>\n",
       "      <td>GTT, GESTATIONAL, 3 HR,4 SPEC (100G)</td>\n",
       "      <td>8/28/2019</td>\n",
       "    </tr>\n",
       "    <tr>\n",
       "      <th>8168</th>\n",
       "      <td>1681</td>\n",
       "      <td>Spanish</td>\n",
       "      <td>39</td>\n",
       "      <td>148</td>\n",
       "      <td>High</td>\n",
       "      <td>Before</td>\n",
       "      <td>6/15/2019</td>\n",
       "      <td>11/30/2019</td>\n",
       "      <td>GLUCOSE, GESTATIONAL SCREEN (50G)</td>\n",
       "      <td>8/25/2019</td>\n",
       "    </tr>\n",
       "    <tr>\n",
       "      <th>8169</th>\n",
       "      <td>1681</td>\n",
       "      <td>Spanish</td>\n",
       "      <td>39</td>\n",
       "      <td>110</td>\n",
       "      <td>WNL</td>\n",
       "      <td>After</td>\n",
       "      <td>6/15/2019</td>\n",
       "      <td>11/30/2019</td>\n",
       "      <td>GTT, GESTATIONAL, 3 HR,4 SPEC (100G)</td>\n",
       "      <td>12/5/2019</td>\n",
       "    </tr>\n",
       "    <tr>\n",
       "      <th>8170</th>\n",
       "      <td>1681</td>\n",
       "      <td>Spanish</td>\n",
       "      <td>39</td>\n",
       "      <td>78</td>\n",
       "      <td>WNL</td>\n",
       "      <td>Before</td>\n",
       "      <td>6/15/2019</td>\n",
       "      <td>11/30/2019</td>\n",
       "      <td>GTT, GESTATIONAL, 3 HR,4 SPEC (100G)</td>\n",
       "      <td>8/28/2019</td>\n",
       "    </tr>\n",
       "  </tbody>\n",
       "</table>\n",
       "<p>7466 rows × 10 columns</p>\n",
       "</div>"
      ],
      "text/plain": [
       "        ID LANGUAGE  AGE  GTT_TEST_RESULT High_WNL Before_After   LMP_DATE  \\\n",
       "5        2  Spanish   39               91      WNL        After  1/18/2020   \n",
       "6        2  Spanish   39              191     High        After  1/18/2020   \n",
       "7        2  Spanish   39              182     High       Before  1/18/2020   \n",
       "8        2  Spanish   39              189     High        After  1/18/2020   \n",
       "9        2  Spanish   39              197     High        After  1/18/2020   \n",
       "...    ...      ...  ...              ...      ...          ...        ...   \n",
       "8166  1681  Spanish   39              131      WNL       Before  6/15/2019   \n",
       "8167  1681  Spanish   39              157      WNL       Before  6/15/2019   \n",
       "8168  1681  Spanish   39              148     High       Before  6/15/2019   \n",
       "8169  1681  Spanish   39              110      WNL        After  6/15/2019   \n",
       "8170  1681  Spanish   39               78      WNL       Before  6/15/2019   \n",
       "\n",
       "        24w_DATE                         GTT_TEST_NAME GTT_RESULT_DATE  \n",
       "5       7/4/2020  GTT, GESTATIONAL, 3 HR,4 SPEC (100G)       1/23/2021  \n",
       "6       7/4/2020     GLUCOSE, GESTATIONAL SCREEN (50G)       1/14/2021  \n",
       "7       7/4/2020     GLUCOSE, GESTATIONAL SCREEN (50G)       3/13/2020  \n",
       "8       7/4/2020  GTT, GESTATIONAL, 3 HR,4 SPEC (100G)       1/23/2021  \n",
       "9       7/4/2020  GTT, GESTATIONAL, 3 HR,4 SPEC (100G)       1/23/2021  \n",
       "...          ...                                   ...             ...  \n",
       "8166  11/30/2019  GTT, GESTATIONAL, 3 HR,4 SPEC (100G)       8/28/2019  \n",
       "8167  11/30/2019  GTT, GESTATIONAL, 3 HR,4 SPEC (100G)       8/28/2019  \n",
       "8168  11/30/2019     GLUCOSE, GESTATIONAL SCREEN (50G)       8/25/2019  \n",
       "8169  11/30/2019  GTT, GESTATIONAL, 3 HR,4 SPEC (100G)       12/5/2019  \n",
       "8170  11/30/2019  GTT, GESTATIONAL, 3 HR,4 SPEC (100G)       8/28/2019  \n",
       "\n",
       "[7466 rows x 10 columns]"
      ]
     },
     "execution_count": 17,
     "metadata": {},
     "output_type": "execute_result"
    }
   ],
   "source": [
    "df_clean"
   ]
  },
  {
   "cell_type": "markdown",
   "id": "772e029d",
   "metadata": {},
   "source": [
    "### Create Pivot Table of Patients who tested \"High\" or \"WNL\" before and after 24 weeks by Test Name"
   ]
  },
  {
   "cell_type": "code",
   "execution_count": 18,
   "id": "e9be96af",
   "metadata": {},
   "outputs": [],
   "source": [
    "table = pd.pivot_table(df_clean, values='ID', index=['High_WNL','GTT_TEST_NAME'], columns='Before_After', aggfunc= 'count')"
   ]
  },
  {
   "cell_type": "code",
   "execution_count": 19,
   "id": "3e8dda3e",
   "metadata": {},
   "outputs": [
    {
     "data": {
      "text/html": [
       "<div>\n",
       "<style scoped>\n",
       "    .dataframe tbody tr th:only-of-type {\n",
       "        vertical-align: middle;\n",
       "    }\n",
       "\n",
       "    .dataframe tbody tr th {\n",
       "        vertical-align: top;\n",
       "    }\n",
       "\n",
       "    .dataframe thead th {\n",
       "        text-align: right;\n",
       "    }\n",
       "</style>\n",
       "<table border=\"1\" class=\"dataframe\">\n",
       "  <thead>\n",
       "    <tr style=\"text-align: right;\">\n",
       "      <th></th>\n",
       "      <th>Before_After</th>\n",
       "      <th>After</th>\n",
       "      <th>Before</th>\n",
       "    </tr>\n",
       "    <tr>\n",
       "      <th>High_WNL</th>\n",
       "      <th>GTT_TEST_NAME</th>\n",
       "      <th></th>\n",
       "      <th></th>\n",
       "    </tr>\n",
       "  </thead>\n",
       "  <tbody>\n",
       "    <tr>\n",
       "      <th rowspan=\"2\" valign=\"top\">High</th>\n",
       "      <th>GLUCOSE, GESTATIONAL SCREEN (50G)</th>\n",
       "      <td>392</td>\n",
       "      <td>663</td>\n",
       "    </tr>\n",
       "    <tr>\n",
       "      <th>GTT, GESTATIONAL, 3 HR,4 SPEC (100G)</th>\n",
       "      <td>388</td>\n",
       "      <td>390</td>\n",
       "    </tr>\n",
       "    <tr>\n",
       "      <th rowspan=\"2\" valign=\"top\">WNL</th>\n",
       "      <th>GLUCOSE, GESTATIONAL SCREEN (50G)</th>\n",
       "      <td>563</td>\n",
       "      <td>978</td>\n",
       "    </tr>\n",
       "    <tr>\n",
       "      <th>GTT, GESTATIONAL, 3 HR,4 SPEC (100G)</th>\n",
       "      <td>1767</td>\n",
       "      <td>2325</td>\n",
       "    </tr>\n",
       "  </tbody>\n",
       "</table>\n",
       "</div>"
      ],
      "text/plain": [
       "Before_After                                   After  Before\n",
       "High_WNL GTT_TEST_NAME                                      \n",
       "High     GLUCOSE, GESTATIONAL SCREEN (50G)       392     663\n",
       "         GTT, GESTATIONAL, 3 HR,4 SPEC (100G)    388     390\n",
       "WNL      GLUCOSE, GESTATIONAL SCREEN (50G)       563     978\n",
       "         GTT, GESTATIONAL, 3 HR,4 SPEC (100G)   1767    2325"
      ]
     },
     "execution_count": 19,
     "metadata": {},
     "output_type": "execute_result"
    }
   ],
   "source": [
    "table"
   ]
  },
  {
   "cell_type": "markdown",
   "id": "47413f78",
   "metadata": {},
   "source": [
    "### Re-join Language to DF"
   ]
  },
  {
   "cell_type": "code",
   "execution_count": 20,
   "id": "d6e2d0b4",
   "metadata": {},
   "outputs": [],
   "source": [
    "df_b = df\n",
    "df_b = df_b.groupby('ID', as_index = False).first()\n",
    "df_b = df_b.rename(columns = {'ID':'id'})\n",
    "df_merge = pd.merge(df_averages, df_b, how = 'inner', on = 'id')"
   ]
  },
  {
   "cell_type": "code",
   "execution_count": 21,
   "id": "4860809e",
   "metadata": {},
   "outputs": [],
   "source": [
    "df_averages = df_merge.drop(columns = ['AGE', 'GTT_TEST_RESULT', 'High_WNL', 'Before_After', 'LMP_DATE', '24w_DATE', 'GTT_TEST_NAME', 'GTT_RESULT_DATE'], axis = 1 )\n",
    "df_averages = df_averages.rename(columns = {'LANGUAGE': 'language'})\n",
    "\n"
   ]
  },
  {
   "cell_type": "code",
   "execution_count": 23,
   "id": "8e531f9c",
   "metadata": {},
   "outputs": [
    {
     "data": {
      "text/html": [
       "<div>\n",
       "<style scoped>\n",
       "    .dataframe tbody tr th:only-of-type {\n",
       "        vertical-align: middle;\n",
       "    }\n",
       "\n",
       "    .dataframe tbody tr th {\n",
       "        vertical-align: top;\n",
       "    }\n",
       "\n",
       "    .dataframe thead th {\n",
       "        text-align: right;\n",
       "    }\n",
       "</style>\n",
       "<table border=\"1\" class=\"dataframe\">\n",
       "  <thead>\n",
       "    <tr style=\"text-align: right;\">\n",
       "      <th></th>\n",
       "      <th>id</th>\n",
       "      <th>age</th>\n",
       "      <th>avg_before_test</th>\n",
       "      <th>avg_after_test</th>\n",
       "      <th>diff</th>\n",
       "      <th>percent_change</th>\n",
       "      <th>language</th>\n",
       "    </tr>\n",
       "  </thead>\n",
       "  <tbody>\n",
       "    <tr>\n",
       "      <th>0</th>\n",
       "      <td>2</td>\n",
       "      <td>39</td>\n",
       "      <td>182.0</td>\n",
       "      <td>161.60</td>\n",
       "      <td>-20.40</td>\n",
       "      <td>-11.21</td>\n",
       "      <td>Spanish</td>\n",
       "    </tr>\n",
       "    <tr>\n",
       "      <th>1</th>\n",
       "      <td>3</td>\n",
       "      <td>31</td>\n",
       "      <td>115.5</td>\n",
       "      <td>115.50</td>\n",
       "      <td>0.00</td>\n",
       "      <td>0.00</td>\n",
       "      <td>Spanish</td>\n",
       "    </tr>\n",
       "    <tr>\n",
       "      <th>2</th>\n",
       "      <td>4</td>\n",
       "      <td>42</td>\n",
       "      <td>131.2</td>\n",
       "      <td>136.00</td>\n",
       "      <td>4.80</td>\n",
       "      <td>3.66</td>\n",
       "      <td>Spanish</td>\n",
       "    </tr>\n",
       "    <tr>\n",
       "      <th>3</th>\n",
       "      <td>5</td>\n",
       "      <td>36</td>\n",
       "      <td>110.4</td>\n",
       "      <td>95.40</td>\n",
       "      <td>-15.00</td>\n",
       "      <td>-13.59</td>\n",
       "      <td>English</td>\n",
       "    </tr>\n",
       "    <tr>\n",
       "      <th>4</th>\n",
       "      <td>6</td>\n",
       "      <td>36</td>\n",
       "      <td>65.0</td>\n",
       "      <td>144.00</td>\n",
       "      <td>79.00</td>\n",
       "      <td>121.54</td>\n",
       "      <td>English</td>\n",
       "    </tr>\n",
       "    <tr>\n",
       "      <th>...</th>\n",
       "      <td>...</td>\n",
       "      <td>...</td>\n",
       "      <td>...</td>\n",
       "      <td>...</td>\n",
       "      <td>...</td>\n",
       "      <td>...</td>\n",
       "      <td>...</td>\n",
       "    </tr>\n",
       "    <tr>\n",
       "      <th>1121</th>\n",
       "      <td>1676</td>\n",
       "      <td>25</td>\n",
       "      <td>86.0</td>\n",
       "      <td>103.33</td>\n",
       "      <td>17.33</td>\n",
       "      <td>20.15</td>\n",
       "      <td>English</td>\n",
       "    </tr>\n",
       "    <tr>\n",
       "      <th>1122</th>\n",
       "      <td>1678</td>\n",
       "      <td>30</td>\n",
       "      <td>128.8</td>\n",
       "      <td>144.60</td>\n",
       "      <td>15.80</td>\n",
       "      <td>12.27</td>\n",
       "      <td>Spanish</td>\n",
       "    </tr>\n",
       "    <tr>\n",
       "      <th>1123</th>\n",
       "      <td>1679</td>\n",
       "      <td>24</td>\n",
       "      <td>101.8</td>\n",
       "      <td>140.80</td>\n",
       "      <td>39.00</td>\n",
       "      <td>38.31</td>\n",
       "      <td>Spanish</td>\n",
       "    </tr>\n",
       "    <tr>\n",
       "      <th>1124</th>\n",
       "      <td>1680</td>\n",
       "      <td>22</td>\n",
       "      <td>112.4</td>\n",
       "      <td>164.57</td>\n",
       "      <td>52.17</td>\n",
       "      <td>46.41</td>\n",
       "      <td>English</td>\n",
       "    </tr>\n",
       "    <tr>\n",
       "      <th>1125</th>\n",
       "      <td>1681</td>\n",
       "      <td>39</td>\n",
       "      <td>129.0</td>\n",
       "      <td>106.60</td>\n",
       "      <td>-22.40</td>\n",
       "      <td>-17.36</td>\n",
       "      <td>Spanish</td>\n",
       "    </tr>\n",
       "  </tbody>\n",
       "</table>\n",
       "<p>1126 rows × 7 columns</p>\n",
       "</div>"
      ],
      "text/plain": [
       "        id  age  avg_before_test  avg_after_test   diff  percent_change  \\\n",
       "0        2   39            182.0          161.60 -20.40          -11.21   \n",
       "1        3   31            115.5          115.50   0.00            0.00   \n",
       "2        4   42            131.2          136.00   4.80            3.66   \n",
       "3        5   36            110.4           95.40 -15.00          -13.59   \n",
       "4        6   36             65.0          144.00  79.00          121.54   \n",
       "...    ...  ...              ...             ...    ...             ...   \n",
       "1121  1676   25             86.0          103.33  17.33           20.15   \n",
       "1122  1678   30            128.8          144.60  15.80           12.27   \n",
       "1123  1679   24            101.8          140.80  39.00           38.31   \n",
       "1124  1680   22            112.4          164.57  52.17           46.41   \n",
       "1125  1681   39            129.0          106.60 -22.40          -17.36   \n",
       "\n",
       "     language  \n",
       "0     Spanish  \n",
       "1     Spanish  \n",
       "2     Spanish  \n",
       "3     English  \n",
       "4     English  \n",
       "...       ...  \n",
       "1121  English  \n",
       "1122  Spanish  \n",
       "1123  Spanish  \n",
       "1124  English  \n",
       "1125  Spanish  \n",
       "\n",
       "[1126 rows x 7 columns]"
      ]
     },
     "execution_count": 23,
     "metadata": {},
     "output_type": "execute_result"
    }
   ],
   "source": [
    "df_averages"
   ]
  },
  {
   "cell_type": "code",
   "execution_count": 24,
   "id": "7a1d1886",
   "metadata": {},
   "outputs": [],
   "source": [
    "# count_before = 0\n",
    "# count_after = 0\n",
    "# patient_arr = []\n",
    "\n",
    "# for i in range(len(df)):\n",
    "#     if df[i,0] not in patient_arr:\n",
    "#         patient_arr.append(df[i,0])\n",
    "#         if(df.iloc[1,5] == \"Before\"):\n",
    "#             count_before"
   ]
  },
  {
   "cell_type": "code",
   "execution_count": 25,
   "id": "710a4bdc",
   "metadata": {},
   "outputs": [
    {
     "data": {
      "text/plain": [
       "1"
      ]
     },
     "execution_count": 25,
     "metadata": {},
     "output_type": "execute_result"
    }
   ],
   "source": [
    "df.iloc[1,0]"
   ]
  },
  {
   "cell_type": "markdown",
   "id": "5199933e",
   "metadata": {},
   "source": [
    "#### Get Dummy variables for language var and drop all languages except spanish and english"
   ]
  },
  {
   "cell_type": "code",
   "execution_count": 26,
   "id": "474ab0f0",
   "metadata": {},
   "outputs": [
    {
     "data": {
      "text/html": [
       "<div>\n",
       "<style scoped>\n",
       "    .dataframe tbody tr th:only-of-type {\n",
       "        vertical-align: middle;\n",
       "    }\n",
       "\n",
       "    .dataframe tbody tr th {\n",
       "        vertical-align: top;\n",
       "    }\n",
       "\n",
       "    .dataframe thead th {\n",
       "        text-align: right;\n",
       "    }\n",
       "</style>\n",
       "<table border=\"1\" class=\"dataframe\">\n",
       "  <thead>\n",
       "    <tr style=\"text-align: right;\">\n",
       "      <th></th>\n",
       "      <th>id</th>\n",
       "      <th>age</th>\n",
       "      <th>avg_before_test</th>\n",
       "      <th>avg_after_test</th>\n",
       "      <th>diff</th>\n",
       "      <th>percent_change</th>\n",
       "      <th>English</th>\n",
       "      <th>Spanish</th>\n",
       "    </tr>\n",
       "  </thead>\n",
       "  <tbody>\n",
       "    <tr>\n",
       "      <th>0</th>\n",
       "      <td>2</td>\n",
       "      <td>39</td>\n",
       "      <td>182.0</td>\n",
       "      <td>161.60</td>\n",
       "      <td>-20.40</td>\n",
       "      <td>-11.21</td>\n",
       "      <td>0</td>\n",
       "      <td>1</td>\n",
       "    </tr>\n",
       "    <tr>\n",
       "      <th>1</th>\n",
       "      <td>3</td>\n",
       "      <td>31</td>\n",
       "      <td>115.5</td>\n",
       "      <td>115.50</td>\n",
       "      <td>0.00</td>\n",
       "      <td>0.00</td>\n",
       "      <td>0</td>\n",
       "      <td>1</td>\n",
       "    </tr>\n",
       "    <tr>\n",
       "      <th>2</th>\n",
       "      <td>4</td>\n",
       "      <td>42</td>\n",
       "      <td>131.2</td>\n",
       "      <td>136.00</td>\n",
       "      <td>4.80</td>\n",
       "      <td>3.66</td>\n",
       "      <td>0</td>\n",
       "      <td>1</td>\n",
       "    </tr>\n",
       "    <tr>\n",
       "      <th>3</th>\n",
       "      <td>5</td>\n",
       "      <td>36</td>\n",
       "      <td>110.4</td>\n",
       "      <td>95.40</td>\n",
       "      <td>-15.00</td>\n",
       "      <td>-13.59</td>\n",
       "      <td>1</td>\n",
       "      <td>0</td>\n",
       "    </tr>\n",
       "    <tr>\n",
       "      <th>4</th>\n",
       "      <td>6</td>\n",
       "      <td>36</td>\n",
       "      <td>65.0</td>\n",
       "      <td>144.00</td>\n",
       "      <td>79.00</td>\n",
       "      <td>121.54</td>\n",
       "      <td>1</td>\n",
       "      <td>0</td>\n",
       "    </tr>\n",
       "    <tr>\n",
       "      <th>...</th>\n",
       "      <td>...</td>\n",
       "      <td>...</td>\n",
       "      <td>...</td>\n",
       "      <td>...</td>\n",
       "      <td>...</td>\n",
       "      <td>...</td>\n",
       "      <td>...</td>\n",
       "      <td>...</td>\n",
       "    </tr>\n",
       "    <tr>\n",
       "      <th>1121</th>\n",
       "      <td>1676</td>\n",
       "      <td>25</td>\n",
       "      <td>86.0</td>\n",
       "      <td>103.33</td>\n",
       "      <td>17.33</td>\n",
       "      <td>20.15</td>\n",
       "      <td>1</td>\n",
       "      <td>0</td>\n",
       "    </tr>\n",
       "    <tr>\n",
       "      <th>1122</th>\n",
       "      <td>1678</td>\n",
       "      <td>30</td>\n",
       "      <td>128.8</td>\n",
       "      <td>144.60</td>\n",
       "      <td>15.80</td>\n",
       "      <td>12.27</td>\n",
       "      <td>0</td>\n",
       "      <td>1</td>\n",
       "    </tr>\n",
       "    <tr>\n",
       "      <th>1123</th>\n",
       "      <td>1679</td>\n",
       "      <td>24</td>\n",
       "      <td>101.8</td>\n",
       "      <td>140.80</td>\n",
       "      <td>39.00</td>\n",
       "      <td>38.31</td>\n",
       "      <td>0</td>\n",
       "      <td>1</td>\n",
       "    </tr>\n",
       "    <tr>\n",
       "      <th>1124</th>\n",
       "      <td>1680</td>\n",
       "      <td>22</td>\n",
       "      <td>112.4</td>\n",
       "      <td>164.57</td>\n",
       "      <td>52.17</td>\n",
       "      <td>46.41</td>\n",
       "      <td>1</td>\n",
       "      <td>0</td>\n",
       "    </tr>\n",
       "    <tr>\n",
       "      <th>1125</th>\n",
       "      <td>1681</td>\n",
       "      <td>39</td>\n",
       "      <td>129.0</td>\n",
       "      <td>106.60</td>\n",
       "      <td>-22.40</td>\n",
       "      <td>-17.36</td>\n",
       "      <td>0</td>\n",
       "      <td>1</td>\n",
       "    </tr>\n",
       "  </tbody>\n",
       "</table>\n",
       "<p>1126 rows × 8 columns</p>\n",
       "</div>"
      ],
      "text/plain": [
       "        id  age  avg_before_test  avg_after_test   diff  percent_change  \\\n",
       "0        2   39            182.0          161.60 -20.40          -11.21   \n",
       "1        3   31            115.5          115.50   0.00            0.00   \n",
       "2        4   42            131.2          136.00   4.80            3.66   \n",
       "3        5   36            110.4           95.40 -15.00          -13.59   \n",
       "4        6   36             65.0          144.00  79.00          121.54   \n",
       "...    ...  ...              ...             ...    ...             ...   \n",
       "1121  1676   25             86.0          103.33  17.33           20.15   \n",
       "1122  1678   30            128.8          144.60  15.80           12.27   \n",
       "1123  1679   24            101.8          140.80  39.00           38.31   \n",
       "1124  1680   22            112.4          164.57  52.17           46.41   \n",
       "1125  1681   39            129.0          106.60 -22.40          -17.36   \n",
       "\n",
       "      English  Spanish  \n",
       "0           0        1  \n",
       "1           0        1  \n",
       "2           0        1  \n",
       "3           1        0  \n",
       "4           1        0  \n",
       "...       ...      ...  \n",
       "1121        1        0  \n",
       "1122        0        1  \n",
       "1123        0        1  \n",
       "1124        1        0  \n",
       "1125        0        1  \n",
       "\n",
       "[1126 rows x 8 columns]"
      ]
     },
     "execution_count": 26,
     "metadata": {},
     "output_type": "execute_result"
    }
   ],
   "source": [
    "df_averages\n",
    "df_dummies = pd.get_dummies(df_averages['language'])\n",
    "del df_dummies[df_dummies.columns[-1]]\n",
    "df_new = pd.concat([df_averages, df_dummies], axis=1)\n",
    "del df_new['language']\n",
    "df_new = df_new.drop(columns = ['American Sign Language', 'Arabic', 'Mixtec', 'Punjabi'], axis = 1)\n",
    "df_new\n"
   ]
  },
  {
   "cell_type": "markdown",
   "id": "e657d647",
   "metadata": {},
   "source": [
    "# Correlation Statistics "
   ]
  },
  {
   "cell_type": "markdown",
   "id": "f56cc858",
   "metadata": {},
   "source": [
    "### Correlation of age and avg test result before 24 weeks"
   ]
  },
  {
   "cell_type": "code",
   "execution_count": 27,
   "id": "e858141d",
   "metadata": {},
   "outputs": [
    {
     "name": "stdout",
     "output_type": "stream",
     "text": [
      "The pearson correlation coefficient between \n",
      "patient's age and average test GTT test result before 24 weeks is: 0.282\n",
      "\n",
      "The spearman correlation coefficient between \n",
      "patient's age and average test GTT test result before 24 weeks is: 0.316\n",
      "\n",
      "The spearman correlation coefficient between \n",
      "patient's age and average test GTT test result before 24 weeks is: 0.218\n",
      "\n"
     ]
    }
   ],
   "source": [
    "y_before = df_averages['age']\n",
    "x_before = df_averages['avg_before_test']\n",
    "\n",
    "pearson_corr_before = x_before.corr(y_before)\n",
    "spearman_corr_before = x_before.corr(y_before, method = 'spearman')\n",
    "kendall_corr_before = x_before.corr(y_before, method = 'kendall')\n",
    "\n",
    "print(f\"The pearson correlation coefficient between \\npatient's age and average test GTT test result before 24 weeks is: {round(pearson_corr_before,3)}\\n\")\n",
    "print(f\"The spearman correlation coefficient between \\npatient's age and average test GTT test result before 24 weeks is: {round(spearman_corr_before,3)}\\n\")\n",
    "print(f\"The spearman correlation coefficient between \\npatient's age and average test GTT test result before 24 weeks is: {round(kendall_corr_before,3)}\\n\")\n",
    "\n",
    "avg_corr_before = (pearson_corr_before+spearman_corr_before+kendall_corr_before)/3\n"
   ]
  },
  {
   "cell_type": "markdown",
   "id": "b7904ec1",
   "metadata": {},
   "source": [
    "### Correlation of age and avg test result after 24 weeks"
   ]
  },
  {
   "cell_type": "code",
   "execution_count": 28,
   "id": "1e5a8b71",
   "metadata": {},
   "outputs": [
    {
     "name": "stdout",
     "output_type": "stream",
     "text": [
      "The pearson correlation coefficient between \n",
      "patient's age and average test GTT test result after 24 weeks is: -0.006\n",
      "\n",
      "The spearman correlation coefficient between \n",
      "patient's age and average test GTT test result after 24 weeks is: -0.011\n",
      "\n",
      "The spearman correlation coefficient between \n",
      "patient's age and average test GTT test result after 24 weeks is: -0.008\n",
      "\n"
     ]
    }
   ],
   "source": [
    "y_after = df_averages['age']\n",
    "x_after = df_averages['avg_after_test']\n",
    "\n",
    "pearson_corr_after = x_after.corr(y_after)\n",
    "spearman_corr_after = x_after.corr(y_after, method = 'spearman')\n",
    "kendall_corr_after = x_after.corr(y_after, method = 'kendall')\n",
    "\n",
    "print(f\"The pearson correlation coefficient between \\npatient's age and average test GTT test result after 24 weeks is: {round(pearson_corr_after,3)}\\n\")\n",
    "print(f\"The spearman correlation coefficient between \\npatient's age and average test GTT test result after 24 weeks is: {round(spearman_corr_after,3)}\\n\")\n",
    "print(f\"The spearman correlation coefficient between \\npatient's age and average test GTT test result after 24 weeks is: {round(kendall_corr_after,3)}\\n\")\n",
    "\n",
    "avg_corr_after = (pearson_corr_after+spearman_corr_after+kendall_corr_after)/3\n"
   ]
  },
  {
   "cell_type": "markdown",
   "id": "c8aaac8e",
   "metadata": {},
   "source": [
    "### Correlation of age and percent change in test result after 24 weeks"
   ]
  },
  {
   "cell_type": "code",
   "execution_count": 29,
   "id": "7e16a921",
   "metadata": {},
   "outputs": [
    {
     "name": "stdout",
     "output_type": "stream",
     "text": [
      "The pearson correlation coefficient between \n",
      "patient's age and percentage change after 24 weeks is: -0.22\n",
      "\n",
      "The spearman correlation coefficient between \n",
      "patient's age and percentage change after 24 weeks is: -0.242\n",
      "\n",
      "The spearman correlation coefficient between \n",
      "patient's age and percentage change after 24 weeks is: -0.166\n",
      "\n"
     ]
    }
   ],
   "source": [
    "y_change = df_averages['age']\n",
    "x_change = df_averages['percent_change']\n",
    "\n",
    "pearson_corr_change = x_change.corr(y_change)\n",
    "spearman_corr_change = x_change.corr(y_change, method = 'spearman')\n",
    "kendall_corr_change = x_change.corr(y_change, method = 'kendall')\n",
    "\n",
    "print(f\"The pearson correlation coefficient between \\npatient's age and percentage change after 24 weeks is: {round(pearson_corr_change,3)}\\n\")\n",
    "print(f\"The spearman correlation coefficient between \\npatient's age and percentage change after 24 weeks is: {round(spearman_corr_change,3)}\\n\")\n",
    "print(f\"The spearman correlation coefficient between \\npatient's age and percentage change after 24 weeks is: {round(kendall_corr_change,3)}\\n\")\n",
    "\n",
    "avg_corr_change = (pearson_corr_change+spearman_corr_change+kendall_corr_change)/3\n"
   ]
  },
  {
   "cell_type": "markdown",
   "id": "56a2eed5",
   "metadata": {},
   "source": [
    "### Averaged Correlations - Conclusion"
   ]
  },
  {
   "cell_type": "code",
   "execution_count": 30,
   "id": "e8ee8a61",
   "metadata": {},
   "outputs": [
    {
     "name": "stdout",
     "output_type": "stream",
     "text": [
      "correlation of age and GTT test result prior to 24 weeks is week and \n",
      "is statistically insignificant - with an average correlation of: 0.272\n",
      "\n",
      "correlation of age and GTT test result after to 24 weeks is very weak and \n",
      "is statistically insignificant - with an average correlation of: -0.008\n",
      "\n",
      "correlation of age and average change in GTT test result after 24 weeks is weak \n",
      "is statistically insignificant - with an average correlation of: -0.209\n",
      "\n"
     ]
    }
   ],
   "source": [
    "print(f\"correlation of age and GTT test result prior to 24 weeks is week and \\nis statistically insignificant - with an average correlation of: {round(avg_corr_before,3)}\\n\") \n",
    "print(f\"correlation of age and GTT test result after to 24 weeks is very weak and \\nis statistically insignificant - with an average correlation of: {round(avg_corr_after,3)}\\n\")\n",
    "print(f\"correlation of age and average change in GTT test result after 24 weeks is weak \\nis statistically insignificant - with an average correlation of: {round(avg_corr_change,3)}\\n\")\n",
    "\n"
   ]
  },
  {
   "cell_type": "code",
   "execution_count": null,
   "id": "fc0575a4",
   "metadata": {},
   "outputs": [],
   "source": []
  },
  {
   "cell_type": "code",
   "execution_count": null,
   "id": "4f64e8c5",
   "metadata": {},
   "outputs": [],
   "source": []
  },
  {
   "cell_type": "markdown",
   "id": "055c3936",
   "metadata": {},
   "source": [
    "## Language correlation with percentage change"
   ]
  },
  {
   "cell_type": "code",
   "execution_count": 31,
   "id": "c7e8dfba",
   "metadata": {},
   "outputs": [
    {
     "name": "stdout",
     "output_type": "stream",
     "text": [
      "The pearson correlation coefficient between \n",
      "Spanish speaking patients and percentage change after 24 weeks is: -0.119\n",
      "\n",
      "The spearman correlation coefficient between \n",
      "Spanish speaking patients and percentage change after 24 weeks is: -0.124\n",
      "\n",
      "The spearman correlation coefficient between \n",
      "Spanish speaking patients and percentage change after 24 weeks is: -0.101\n",
      "\n"
     ]
    }
   ],
   "source": [
    "y_lang = df_new['Spanish']\n",
    "x_lang = df_new['percent_change']\n",
    "\n",
    "pearson_corr_lang = x_change.corr(y_lang)\n",
    "spearman_corr_lang = x_change.corr(y_lang, method = 'spearman')\n",
    "kendall_corr_lang = x_change.corr(y_lang, method = 'kendall')\n",
    "\n",
    "print(f\"The pearson correlation coefficient between \\nSpanish speaking patients and percentage change after 24 weeks is: {round(pearson_corr_lang,3)}\\n\")\n",
    "print(f\"The spearman correlation coefficient between \\nSpanish speaking patients and percentage change after 24 weeks is: {round(spearman_corr_lang,3)}\\n\")\n",
    "print(f\"The spearman correlation coefficient between \\nSpanish speaking patients and percentage change after 24 weeks is: {round(kendall_corr_lang,3)}\\n\")\n",
    "\n",
    "avg_corr_lang = (pearson_corr_lang+spearman_corr_lang+kendall_corr_lang)/3\n"
   ]
  },
  {
   "cell_type": "code",
   "execution_count": 32,
   "id": "719819ee",
   "metadata": {},
   "outputs": [
    {
     "name": "stdout",
     "output_type": "stream",
     "text": [
      "The pearson correlation coefficient between \n",
      "English speaking patients and percentage change after 24 weeks is: 0.12\n",
      "\n",
      "The spearman correlation coefficient between \n",
      "English speaking patients and percentage change after 24 weeks is: 0.124\n",
      "\n",
      "The spearman correlation coefficient between \n",
      "English speaking patients and percentage change after 24 weeks is: 0.101\n",
      "\n"
     ]
    }
   ],
   "source": [
    "y_lang = df_new['English']\n",
    "x_lang = df_new['percent_change']\n",
    "\n",
    "pearson_corr_lang = x_change.corr(y_lang)\n",
    "spearman_corr_lang = x_change.corr(y_lang, method = 'spearman')\n",
    "kendall_corr_lang = x_change.corr(y_lang, method = 'kendall')\n",
    "\n",
    "print(f\"The pearson correlation coefficient between \\nEnglish speaking patients and percentage change after 24 weeks is: {round(pearson_corr_lang,3)}\\n\")\n",
    "print(f\"The spearman correlation coefficient between \\nEnglish speaking patients and percentage change after 24 weeks is: {round(spearman_corr_lang,3)}\\n\")\n",
    "print(f\"The spearman correlation coefficient between \\nEnglish speaking patients and percentage change after 24 weeks is: {round(kendall_corr_lang,3)}\\n\")\n",
    "\n",
    "avg_corr_lang = (pearson_corr_lang+spearman_corr_lang+kendall_corr_lang)/3\n"
   ]
  },
  {
   "cell_type": "code",
   "execution_count": 33,
   "id": "f4a5c4f6",
   "metadata": {},
   "outputs": [
    {
     "name": "stdout",
     "output_type": "stream",
     "text": [
      "While neither english nor spanish speaking patients showed significant correlation with percentage change \n",
      "in test results after 24 weeks, it is worth noting that enlish speaking patients did have a very weak but postive \n",
      "correlation with percentage change while spanish speaking patients are indicated as having a very weak negative \n",
      "correlation in terms of percentage changed after 24 weeks\n"
     ]
    }
   ],
   "source": [
    "print(f\"While neither english nor spanish speaking patients showed significant correlation with percentage change \\nin test results after 24 weeks, it is worth noting that enlish speaking patients did have a very weak but postive \\ncorrelation with percentage change while spanish speaking patients are indicated as having a very weak negative \\ncorrelation in terms of percentage changed after 24 weeks\")"
   ]
  },
  {
   "cell_type": "code",
   "execution_count": null,
   "id": "b73541aa",
   "metadata": {},
   "outputs": [],
   "source": []
  },
  {
   "cell_type": "code",
   "execution_count": null,
   "id": "ddec16b4",
   "metadata": {},
   "outputs": [],
   "source": []
  },
  {
   "cell_type": "code",
   "execution_count": null,
   "id": "918614a3",
   "metadata": {},
   "outputs": [],
   "source": []
  },
  {
   "cell_type": "code",
   "execution_count": null,
   "id": "eab53d1f",
   "metadata": {},
   "outputs": [],
   "source": []
  }
 ],
 "metadata": {
  "kernelspec": {
   "display_name": "Python 3 (ipykernel)",
   "language": "python",
   "name": "python3"
  },
  "language_info": {
   "codemirror_mode": {
    "name": "ipython",
    "version": 3
   },
   "file_extension": ".py",
   "mimetype": "text/x-python",
   "name": "python",
   "nbconvert_exporter": "python",
   "pygments_lexer": "ipython3",
   "version": "3.9.9"
  }
 },
 "nbformat": 4,
 "nbformat_minor": 5
}
